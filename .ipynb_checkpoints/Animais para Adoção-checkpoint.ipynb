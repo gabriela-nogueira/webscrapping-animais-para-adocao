{
 "cells": [
  {
   "cell_type": "markdown",
   "metadata": {},
   "source": [
    "![](img/base-topo.png)"
   ]
  },
  {
   "cell_type": "markdown",
   "metadata": {},
   "source": [
    "# Animais para Adoção | Web Scrapping e Análise de Dados\n",
    "\n",
    "O abandono de animais é um grande problema que muitas ongs e protetores enfrentam diariamente. Segundo uma pesquisa realizada pelo [Instituto Pet Brasil](http://institutopetbrasil.com/imprensa/pais-tem-39-milhoes-de-animais-em-condicao-de-vulnerabilidade/) cerca de 3,9 milhões de pets (incluindo gatos e cachorros) se encontram em situação de vulnerabilidade, onde vivem sob tutela de famílias classificadas abaixo da linha da pobreza ou que vivem nas ruas.  \n",
    "\n",
    "Em uma tentativa de fazer a diferença na vida de animais nessas situações, algumas inciativas tais como [Procure 1 Amigo](https://www.procure1amigo.com.br/), [Amigo não se compra](https://www.amigonaosecompra.com.br/) e o [Caoviver](https://www.caoviver.com.br/) disponibilizam informações sobre bichinhos que se encontram disponíveis para adoção, seja sob tutela de ONGs ou de protetores.  \n",
    "\n",
    "Neste projeto, será analisado alguns dados coletados via web scrapping do site [Amigo não se compra](https://www.amigonaosecompra.com.br/) que contém dados de animais já adotados e disponíveis para adoção.\n",
    "\n",
    "![](img/dog.jpg)"
   ]
  },
  {
   "cell_type": "markdown",
   "metadata": {},
   "source": [
    "## Índice do Projeto"
   ]
  },
  {
   "cell_type": "markdown",
   "metadata": {},
   "source": [
    "## Obtenção dos Dados\n",
    "\n",
    "Os dados foram obtidos por meio de um web scrapping realizado no site Amigo Não se Compra, está disponível no diretório desse projeto no arquivo **scrapper.ipynb**."
   ]
  },
  {
   "cell_type": "code",
   "execution_count": 3,
   "metadata": {},
   "outputs": [],
   "source": [
    "# importando bibliotecas necessárias\n",
    "import pandas as pd\n",
    "import matplotlib.pyplot as plt\n",
    "import seaborn as sns\n",
    "\n",
    "# configurações\n",
    "sns.set_style(\"darkgrid\")\n",
    "\n",
    "# importando os dados para um dataframe\n",
    "df = pd.read_csv(\"dados.csv\")"
   ]
  },
  {
   "cell_type": "code",
   "execution_count": 4,
   "metadata": {},
   "outputs": [
    {
     "data": {
      "text/html": [
       "<div>\n",
       "<style scoped>\n",
       "    .dataframe tbody tr th:only-of-type {\n",
       "        vertical-align: middle;\n",
       "    }\n",
       "\n",
       "    .dataframe tbody tr th {\n",
       "        vertical-align: top;\n",
       "    }\n",
       "\n",
       "    .dataframe thead th {\n",
       "        text-align: right;\n",
       "    }\n",
       "</style>\n",
       "<table border=\"1\" class=\"dataframe\">\n",
       "  <thead>\n",
       "    <tr style=\"text-align: right;\">\n",
       "      <th></th>\n",
       "      <th>Unnamed: 0</th>\n",
       "      <th>nome</th>\n",
       "      <th>cidade</th>\n",
       "      <th>estado</th>\n",
       "      <th>data</th>\n",
       "      <th>especie</th>\n",
       "      <th>sexo</th>\n",
       "      <th>porte</th>\n",
       "      <th>qtd_visitas</th>\n",
       "      <th>adotado</th>\n",
       "    </tr>\n",
       "  </thead>\n",
       "  <tbody>\n",
       "    <tr>\n",
       "      <th>0</th>\n",
       "      <td>0</td>\n",
       "      <td>Heloisa Salino</td>\n",
       "      <td>Rio de Janeiro</td>\n",
       "      <td>Rio de Janeiro</td>\n",
       "      <td>22/08/2020.</td>\n",
       "      <td>Gato</td>\n",
       "      <td>Fêmea</td>\n",
       "      <td>Pequeno</td>\n",
       "      <td>4</td>\n",
       "      <td>0</td>\n",
       "    </tr>\n",
       "    <tr>\n",
       "      <th>1</th>\n",
       "      <td>1</td>\n",
       "      <td>Snoopy</td>\n",
       "      <td>Rio de Janeiro</td>\n",
       "      <td>Rio de Janeiro</td>\n",
       "      <td>22/08/2020.</td>\n",
       "      <td>Cachorro</td>\n",
       "      <td>Macho</td>\n",
       "      <td>Médio</td>\n",
       "      <td>21</td>\n",
       "      <td>0</td>\n",
       "    </tr>\n",
       "    <tr>\n",
       "      <th>2</th>\n",
       "      <td>2</td>\n",
       "      <td>Mila</td>\n",
       "      <td>Rio de Janeiro</td>\n",
       "      <td>Rio de Janeiro</td>\n",
       "      <td>22/08/2020.</td>\n",
       "      <td>Cachorro</td>\n",
       "      <td>Fêmea</td>\n",
       "      <td>Pequeno</td>\n",
       "      <td>23</td>\n",
       "      <td>0</td>\n",
       "    </tr>\n",
       "    <tr>\n",
       "      <th>3</th>\n",
       "      <td>3</td>\n",
       "      <td>Free</td>\n",
       "      <td>São Paulo</td>\n",
       "      <td>São Paulo</td>\n",
       "      <td>22/08/2020.</td>\n",
       "      <td>Cachorro</td>\n",
       "      <td>Macho</td>\n",
       "      <td>Médio</td>\n",
       "      <td>30</td>\n",
       "      <td>0</td>\n",
       "    </tr>\n",
       "    <tr>\n",
       "      <th>4</th>\n",
       "      <td>4</td>\n",
       "      <td>Valentina</td>\n",
       "      <td>São Paulo</td>\n",
       "      <td>São Paulo</td>\n",
       "      <td>22/08/2020.</td>\n",
       "      <td>Gato</td>\n",
       "      <td>Fêmea</td>\n",
       "      <td>Pequeno</td>\n",
       "      <td>54</td>\n",
       "      <td>0</td>\n",
       "    </tr>\n",
       "  </tbody>\n",
       "</table>\n",
       "</div>"
      ],
      "text/plain": [
       "   Unnamed: 0            nome          cidade           estado          data  \\\n",
       "0           0  Heloisa Salino  Rio de Janeiro   Rio de Janeiro   22/08/2020.   \n",
       "1           1          Snoopy  Rio de Janeiro   Rio de Janeiro   22/08/2020.   \n",
       "2           2            Mila  Rio de Janeiro   Rio de Janeiro   22/08/2020.   \n",
       "3           3            Free       São Paulo        São Paulo   22/08/2020.   \n",
       "4           4       Valentina       São Paulo        São Paulo   22/08/2020.   \n",
       "\n",
       "    especie    sexo     porte  qtd_visitas  adotado  \n",
       "0      Gato   Fêmea   Pequeno            4        0  \n",
       "1  Cachorro   Macho     Médio           21        0  \n",
       "2  Cachorro   Fêmea   Pequeno           23        0  \n",
       "3  Cachorro   Macho     Médio           30        0  \n",
       "4      Gato   Fêmea   Pequeno           54        0  "
      ]
     },
     "execution_count": 4,
     "metadata": {},
     "output_type": "execute_result"
    }
   ],
   "source": [
    "# verificando as primeiras entradas para validar importação\n",
    "df.head()"
   ]
  },
  {
   "cell_type": "markdown",
   "metadata": {},
   "source": [
    "## Analise inicial dos dados"
   ]
  },
  {
   "cell_type": "markdown",
   "metadata": {},
   "source": [
    "### Dicionário de Variáveis\n",
    "\n",
    "**nome**: nome do bichinho  \n",
    "**cidade**: cidade onde está localizado  \n",
    "**estado**: estado onde está localizado  \n",
    "**data**: data da publicação do anúncio  \n",
    "**especie**: espécie do bichinho, entre gato e cachorro    \n",
    "**sexo**: sexo do bichinho, entre fêmea e macho  \n",
    "**porte**: porte do bichinho, entre pequeno, médio e grande  \n",
    "**qtd_visitas**: quantidade de visitas ao anúncio até o momento que a extração dos dados foi realizada  \n",
    "**adotado**: variável binária se foi adotado ou não (0: não, 1: sim)  "
   ]
  },
  {
   "cell_type": "markdown",
   "metadata": {},
   "source": [
    "### Quantidade de entradas e variáveis"
   ]
  },
  {
   "cell_type": "code",
   "execution_count": 5,
   "metadata": {},
   "outputs": [
    {
     "name": "stdout",
     "output_type": "stream",
     "text": [
      "Este dataframe contém 12033 entradas e 10 variáveis.\n"
     ]
    }
   ],
   "source": [
    "print(\"Este dataframe contém {} entradas e {} variáveis.\".format(df.shape[0], df.shape[1]))"
   ]
  },
  {
   "cell_type": "markdown",
   "metadata": {},
   "source": [
    "### Tipo das variáveis"
   ]
  },
  {
   "cell_type": "code",
   "execution_count": 7,
   "metadata": {},
   "outputs": [
    {
     "name": "stdout",
     "output_type": "stream",
     "text": [
      "<class 'pandas.core.frame.DataFrame'>\n",
      "RangeIndex: 12033 entries, 0 to 12032\n",
      "Data columns (total 10 columns):\n",
      " #   Column       Non-Null Count  Dtype \n",
      "---  ------       --------------  ----- \n",
      " 0   Unnamed: 0   12033 non-null  int64 \n",
      " 1   nome         12033 non-null  object\n",
      " 2   cidade       12033 non-null  object\n",
      " 3   estado       12033 non-null  object\n",
      " 4   data         12033 non-null  object\n",
      " 5   especie      12033 non-null  object\n",
      " 6   sexo         12033 non-null  object\n",
      " 7   porte        12033 non-null  object\n",
      " 8   qtd_visitas  12033 non-null  int64 \n",
      " 9   adotado      12033 non-null  int64 \n",
      "dtypes: int64(3), object(7)\n",
      "memory usage: 940.2+ KB\n"
     ]
    }
   ],
   "source": [
    "df.info()"
   ]
  },
  {
   "cell_type": "markdown",
   "metadata": {},
   "source": [
    "A partir desse método, podemos ver que não há valores nulos no dataset. Com isso, não será necessária a validação no momento.  \n",
    "\n",
    "### Validação da presença de outliers"
   ]
  },
  {
   "cell_type": "code",
   "execution_count": 8,
   "metadata": {},
   "outputs": [
    {
     "data": {
      "text/html": [
       "<div>\n",
       "<style scoped>\n",
       "    .dataframe tbody tr th:only-of-type {\n",
       "        vertical-align: middle;\n",
       "    }\n",
       "\n",
       "    .dataframe tbody tr th {\n",
       "        vertical-align: top;\n",
       "    }\n",
       "\n",
       "    .dataframe thead th {\n",
       "        text-align: right;\n",
       "    }\n",
       "</style>\n",
       "<table border=\"1\" class=\"dataframe\">\n",
       "  <thead>\n",
       "    <tr style=\"text-align: right;\">\n",
       "      <th></th>\n",
       "      <th>Unnamed: 0</th>\n",
       "      <th>qtd_visitas</th>\n",
       "      <th>adotado</th>\n",
       "    </tr>\n",
       "  </thead>\n",
       "  <tbody>\n",
       "    <tr>\n",
       "      <th>count</th>\n",
       "      <td>12033.000000</td>\n",
       "      <td>12033.000000</td>\n",
       "      <td>12033.000000</td>\n",
       "    </tr>\n",
       "    <tr>\n",
       "      <th>mean</th>\n",
       "      <td>3007.772625</td>\n",
       "      <td>451.158232</td>\n",
       "      <td>0.501371</td>\n",
       "    </tr>\n",
       "    <tr>\n",
       "      <th>std</th>\n",
       "      <td>1736.925286</td>\n",
       "      <td>667.387460</td>\n",
       "      <td>0.500019</td>\n",
       "    </tr>\n",
       "    <tr>\n",
       "      <th>min</th>\n",
       "      <td>0.000000</td>\n",
       "      <td>4.000000</td>\n",
       "      <td>0.000000</td>\n",
       "    </tr>\n",
       "    <tr>\n",
       "      <th>25%</th>\n",
       "      <td>1504.000000</td>\n",
       "      <td>179.000000</td>\n",
       "      <td>0.000000</td>\n",
       "    </tr>\n",
       "    <tr>\n",
       "      <th>50%</th>\n",
       "      <td>3008.000000</td>\n",
       "      <td>318.000000</td>\n",
       "      <td>1.000000</td>\n",
       "    </tr>\n",
       "    <tr>\n",
       "      <th>75%</th>\n",
       "      <td>4512.000000</td>\n",
       "      <td>530.000000</td>\n",
       "      <td>1.000000</td>\n",
       "    </tr>\n",
       "    <tr>\n",
       "      <th>max</th>\n",
       "      <td>6032.000000</td>\n",
       "      <td>33427.000000</td>\n",
       "      <td>1.000000</td>\n",
       "    </tr>\n",
       "  </tbody>\n",
       "</table>\n",
       "</div>"
      ],
      "text/plain": [
       "         Unnamed: 0   qtd_visitas       adotado\n",
       "count  12033.000000  12033.000000  12033.000000\n",
       "mean    3007.772625    451.158232      0.501371\n",
       "std     1736.925286    667.387460      0.500019\n",
       "min        0.000000      4.000000      0.000000\n",
       "25%     1504.000000    179.000000      0.000000\n",
       "50%     3008.000000    318.000000      1.000000\n",
       "75%     4512.000000    530.000000      1.000000\n",
       "max     6032.000000  33427.000000      1.000000"
      ]
     },
     "execution_count": 8,
     "metadata": {},
     "output_type": "execute_result"
    }
   ],
   "source": [
    "df.describe()"
   ]
  },
  {
   "cell_type": "code",
   "execution_count": 14,
   "metadata": {},
   "outputs": [
    {
     "data": {
      "text/plain": [
       "Unnamed: 0     355\n",
       "nome           355\n",
       "cidade         355\n",
       "estado         355\n",
       "data           355\n",
       "especie        355\n",
       "sexo           355\n",
       "porte          355\n",
       "qtd_visitas    355\n",
       "adotado        355\n",
       "dtype: int64"
      ]
     },
     "execution_count": 14,
     "metadata": {},
     "output_type": "execute_result"
    }
   ],
   "source": [
    "df[df['qtd_visitas'] > 1500].count()"
   ]
  },
  {
   "cell_type": "markdown",
   "metadata": {},
   "source": [
    "Segundo os dados presentes no método describe, o valor máximo da variável `qtd_visitas` é de 33427. Como a maior parte do nosso dataset está em até 530 visitas, será necessária uma limpeza desses outliers."
   ]
  },
  {
   "cell_type": "markdown",
   "metadata": {},
   "source": [
    " ### Qual é a espécie mais presente nos dados?\n",
    " \n",
    "Os cachorros são a maioria presente para adoção, assim como constatado na pesquisa do [Instituto Pet Brasil](http://institutopetbrasil.com/imprensa/pais-tem-39-milhoes-de-animais-em-condicao-de-vulnerabilidade/), onde que a população de cachorros é maior que a de gatos."
   ]
  },
  {
   "cell_type": "code",
   "execution_count": 25,
   "metadata": {},
   "outputs": [
    {
     "data": {
      "image/png": "[encoded data removed]",
      "text/plain": [
       "<Figure size 1080x360 with 3 Axes>"
      ]
     },
     "metadata": {},
     "output_type": "display_data"
    }
   ],
   "source": [
    "fig, ax = plt.subplots(ncols=3, figsize=(15,5))\n",
    "sns.countplot(x=\"especie\", data=df, ax=ax[0]);\n",
    "sns.countplot(x=\"porte\", data=df, ax=ax[1]);\n",
    "sns.countplot(x=\"sexo\", data=df, ax=ax[2]);"
   ]
  },
  {
   "cell_type": "code",
   "execution_count": null,
   "metadata": {},
   "outputs": [],
   "source": []
  }
 ],
 "metadata": {
  "kernelspec": {
   "display_name": "Python 3",
   "language": "python",
   "name": "python3"
  },
  "language_info": {
   "codemirror_mode": {
    "name": "ipython",
    "version": 3
   },
   "file_extension": ".py",
   "mimetype": "text/x-python",
   "name": "python",
   "nbconvert_exporter": "python",
   "pygments_lexer": "ipython3",
   "version": "3.7.1"
  }
 },
 "nbformat": 4,
 "nbformat_minor": 4
}
