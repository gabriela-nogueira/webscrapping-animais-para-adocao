{
 "cells": [
  {
   "cell_type": "markdown",
   "metadata": {},
   "source": [
    "![](img/base-topo.png)"
   ]
  },
  {
   "cell_type": "markdown",
   "metadata": {},
   "source": [
    "# Animais para Adoção | Web Scrapping e Análise de Dados\n",
    "\n",
    "O abandono de animais é um grande problema que muitas ongs e protetores enfrentam diariamente. Segundo uma pesquisa realizada pelo [Instituto Pet Brasil](http://institutopetbrasil.com/imprensa/pais-tem-39-milhoes-de-animais-em-condicao-de-vulnerabilidade/) cerca de 3,9 milhões de pets (incluindo gatos e cachorros) se encontram em situação de vulnerabilidade, onde vivem sob tutela de famílias classificadas abaixo da linha da pobreza ou que vivem nas ruas.  \n",
    "\n",
    "Em uma tentativa de fazer a diferença na vida de animais nessas situações, algumas inciativas tais como [Procure 1 Amigo](https://www.procure1amigo.com.br/), [Amigo não se compra](https://www.amigonaosecompra.com.br/) e o [Caoviver](https://www.caoviver.com.br/) disponibilizam informações sobre bichinhos que se encontram disponíveis para adoção, seja sob tutela de ONGs ou de protetores.  \n",
    "\n",
    "Neste projeto, será analisado alguns dados coletados via web scrapping do site [Amigo não se compra](https://www.amigonaosecompra.com.br/) que contém dados de animais já adotados e disponíveis para adoção.\n",
    "\n",
    "![](img/dog.jpg)"
   ]
  },
  {
   "cell_type": "markdown",
   "metadata": {},
   "source": [
    "## Índice do Projeto"
   ]
  },
  {
   "cell_type": "markdown",
   "metadata": {},
   "source": [
    "## Obtenção dos Dados\n",
    "\n",
    "Os dados foram obtidos por meio de um web scrapping realizado no site Amigo Não se Compra, está disponível no diretório desse projeto no arquivo **scrapper.ipynb**."
   ]
  },
  {
   "cell_type": "code",
   "execution_count": 1,
   "metadata": {},
   "outputs": [],
   "source": [
    "# importando bibliotecas necessárias\n",
    "import pandas as pd\n",
    "import matplotlib.pyplot as plt\n",
    "import seaborn as sns\n",
    "\n",
    "# configurações\n",
    "sns.set_style(\"darkgrid\")\n",
    "\n",
    "# importando os dados para um dataframe\n",
    "df = pd.read_csv(\"dados.csv\")"
   ]
  },
  {
   "cell_type": "code",
   "execution_count": 2,
   "metadata": {},
   "outputs": [
    {
     "data": {
      "text/html": [
       "<div>\n",
       "<style scoped>\n",
       "    .dataframe tbody tr th:only-of-type {\n",
       "        vertical-align: middle;\n",
       "    }\n",
       "\n",
       "    .dataframe tbody tr th {\n",
       "        vertical-align: top;\n",
       "    }\n",
       "\n",
       "    .dataframe thead th {\n",
       "        text-align: right;\n",
       "    }\n",
       "</style>\n",
       "<table border=\"1\" class=\"dataframe\">\n",
       "  <thead>\n",
       "    <tr style=\"text-align: right;\">\n",
       "      <th></th>\n",
       "      <th>Unnamed: 0</th>\n",
       "      <th>nome</th>\n",
       "      <th>cidade</th>\n",
       "      <th>estado</th>\n",
       "      <th>data</th>\n",
       "      <th>especie</th>\n",
       "      <th>sexo</th>\n",
       "      <th>porte</th>\n",
       "      <th>qtd_visitas</th>\n",
       "      <th>adotado</th>\n",
       "    </tr>\n",
       "  </thead>\n",
       "  <tbody>\n",
       "    <tr>\n",
       "      <th>0</th>\n",
       "      <td>0</td>\n",
       "      <td>Heloisa Salino</td>\n",
       "      <td>Rio de Janeiro</td>\n",
       "      <td>Rio de Janeiro</td>\n",
       "      <td>22/08/2020.</td>\n",
       "      <td>Gato</td>\n",
       "      <td>Fêmea</td>\n",
       "      <td>Pequeno</td>\n",
       "      <td>4</td>\n",
       "      <td>0</td>\n",
       "    </tr>\n",
       "    <tr>\n",
       "      <th>1</th>\n",
       "      <td>1</td>\n",
       "      <td>Snoopy</td>\n",
       "      <td>Rio de Janeiro</td>\n",
       "      <td>Rio de Janeiro</td>\n",
       "      <td>22/08/2020.</td>\n",
       "      <td>Cachorro</td>\n",
       "      <td>Macho</td>\n",
       "      <td>Médio</td>\n",
       "      <td>21</td>\n",
       "      <td>0</td>\n",
       "    </tr>\n",
       "    <tr>\n",
       "      <th>2</th>\n",
       "      <td>2</td>\n",
       "      <td>Mila</td>\n",
       "      <td>Rio de Janeiro</td>\n",
       "      <td>Rio de Janeiro</td>\n",
       "      <td>22/08/2020.</td>\n",
       "      <td>Cachorro</td>\n",
       "      <td>Fêmea</td>\n",
       "      <td>Pequeno</td>\n",
       "      <td>23</td>\n",
       "      <td>0</td>\n",
       "    </tr>\n",
       "    <tr>\n",
       "      <th>3</th>\n",
       "      <td>3</td>\n",
       "      <td>Free</td>\n",
       "      <td>São Paulo</td>\n",
       "      <td>São Paulo</td>\n",
       "      <td>22/08/2020.</td>\n",
       "      <td>Cachorro</td>\n",
       "      <td>Macho</td>\n",
       "      <td>Médio</td>\n",
       "      <td>30</td>\n",
       "      <td>0</td>\n",
       "    </tr>\n",
       "    <tr>\n",
       "      <th>4</th>\n",
       "      <td>4</td>\n",
       "      <td>Valentina</td>\n",
       "      <td>São Paulo</td>\n",
       "      <td>São Paulo</td>\n",
       "      <td>22/08/2020.</td>\n",
       "      <td>Gato</td>\n",
       "      <td>Fêmea</td>\n",
       "      <td>Pequeno</td>\n",
       "      <td>54</td>\n",
       "      <td>0</td>\n",
       "    </tr>\n",
       "  </tbody>\n",
       "</table>\n",
       "</div>"
      ],
      "text/plain": [
       "   Unnamed: 0            nome          cidade           estado          data  \\\n",
       "0           0  Heloisa Salino  Rio de Janeiro   Rio de Janeiro   22/08/2020.   \n",
       "1           1          Snoopy  Rio de Janeiro   Rio de Janeiro   22/08/2020.   \n",
       "2           2            Mila  Rio de Janeiro   Rio de Janeiro   22/08/2020.   \n",
       "3           3            Free       São Paulo        São Paulo   22/08/2020.   \n",
       "4           4       Valentina       São Paulo        São Paulo   22/08/2020.   \n",
       "\n",
       "    especie    sexo     porte  qtd_visitas  adotado  \n",
       "0      Gato   Fêmea   Pequeno            4        0  \n",
       "1  Cachorro   Macho     Médio           21        0  \n",
       "2  Cachorro   Fêmea   Pequeno           23        0  \n",
       "3  Cachorro   Macho     Médio           30        0  \n",
       "4      Gato   Fêmea   Pequeno           54        0  "
      ]
     },
     "execution_count": 2,
     "metadata": {},
     "output_type": "execute_result"
    }
   ],
   "source": [
    "# verificando as primeiras entradas para validar importação\n",
    "df.head()"
   ]
  },
  {
   "cell_type": "markdown",
   "metadata": {},
   "source": [
    "## Pré-processamento dos dados"
   ]
  },
  {
   "cell_type": "markdown",
   "metadata": {},
   "source": [
    "### Dicionário de Variáveis\n",
    "\n",
    "**nome**: nome do bichinho  \n",
    "**cidade**: cidade onde está localizado  \n",
    "**estado**: estado onde está localizado  \n",
    "**data**: data da publicação do anúncio  \n",
    "**especie**: espécie do bichinho, entre gato e cachorro    \n",
    "**sexo**: sexo do bichinho, entre fêmea e macho  \n",
    "**porte**: porte do bichinho, entre pequeno, médio e grande  \n",
    "**qtd_visitas**: quantidade de visitas ao anúncio até o momento que a extração dos dados foi realizada  \n",
    "**adotado**: variável binária se foi adotado ou não (0: não, 1: sim)  "
   ]
  },
  {
   "cell_type": "markdown",
   "metadata": {},
   "source": [
    "### Quantidade de entradas e variáveis"
   ]
  },
  {
   "cell_type": "code",
   "execution_count": 3,
   "metadata": {},
   "outputs": [
    {
     "name": "stdout",
     "output_type": "stream",
     "text": [
      "Este dataframe contém 12033 entradas e 10 variáveis.\n"
     ]
    }
   ],
   "source": [
    "print(\"Este dataframe contém {} entradas e {} variáveis.\".format(df.shape[0], df.shape[1]))"
   ]
  },
  {
   "cell_type": "markdown",
   "metadata": {},
   "source": [
    "### Tipo das variáveis"
   ]
  },
  {
   "cell_type": "code",
   "execution_count": 4,
   "metadata": {},
   "outputs": [
    {
     "name": "stdout",
     "output_type": "stream",
     "text": [
      "<class 'pandas.core.frame.DataFrame'>\n",
      "RangeIndex: 12033 entries, 0 to 12032\n",
      "Data columns (total 10 columns):\n",
      " #   Column       Non-Null Count  Dtype \n",
      "---  ------       --------------  ----- \n",
      " 0   Unnamed: 0   12033 non-null  int64 \n",
      " 1   nome         12033 non-null  object\n",
      " 2   cidade       12033 non-null  object\n",
      " 3   estado       12033 non-null  object\n",
      " 4   data         12033 non-null  object\n",
      " 5   especie      12033 non-null  object\n",
      " 6   sexo         12033 non-null  object\n",
      " 7   porte        12033 non-null  object\n",
      " 8   qtd_visitas  12033 non-null  int64 \n",
      " 9   adotado      12033 non-null  int64 \n",
      "dtypes: int64(3), object(7)\n",
      "memory usage: 940.2+ KB\n"
     ]
    }
   ],
   "source": [
    "df.info()"
   ]
  },
  {
   "cell_type": "markdown",
   "metadata": {},
   "source": [
    "A partir desse método, podemos ver que não há valores nulos no dataset. Com isso, não será necessária a validação no momento.  \n",
    "\n",
    "### Validação da presença de outliers"
   ]
  },
  {
   "cell_type": "code",
   "execution_count": 5,
   "metadata": {},
   "outputs": [
    {
     "data": {
      "text/html": [
       "<div>\n",
       "<style scoped>\n",
       "    .dataframe tbody tr th:only-of-type {\n",
       "        vertical-align: middle;\n",
       "    }\n",
       "\n",
       "    .dataframe tbody tr th {\n",
       "        vertical-align: top;\n",
       "    }\n",
       "\n",
       "    .dataframe thead th {\n",
       "        text-align: right;\n",
       "    }\n",
       "</style>\n",
       "<table border=\"1\" class=\"dataframe\">\n",
       "  <thead>\n",
       "    <tr style=\"text-align: right;\">\n",
       "      <th></th>\n",
       "      <th>Unnamed: 0</th>\n",
       "      <th>qtd_visitas</th>\n",
       "      <th>adotado</th>\n",
       "    </tr>\n",
       "  </thead>\n",
       "  <tbody>\n",
       "    <tr>\n",
       "      <th>count</th>\n",
       "      <td>12033.000000</td>\n",
       "      <td>12033.000000</td>\n",
       "      <td>12033.000000</td>\n",
       "    </tr>\n",
       "    <tr>\n",
       "      <th>mean</th>\n",
       "      <td>3007.772625</td>\n",
       "      <td>451.158232</td>\n",
       "      <td>0.501371</td>\n",
       "    </tr>\n",
       "    <tr>\n",
       "      <th>std</th>\n",
       "      <td>1736.925286</td>\n",
       "      <td>667.387460</td>\n",
       "      <td>0.500019</td>\n",
       "    </tr>\n",
       "    <tr>\n",
       "      <th>min</th>\n",
       "      <td>0.000000</td>\n",
       "      <td>4.000000</td>\n",
       "      <td>0.000000</td>\n",
       "    </tr>\n",
       "    <tr>\n",
       "      <th>25%</th>\n",
       "      <td>1504.000000</td>\n",
       "      <td>179.000000</td>\n",
       "      <td>0.000000</td>\n",
       "    </tr>\n",
       "    <tr>\n",
       "      <th>50%</th>\n",
       "      <td>3008.000000</td>\n",
       "      <td>318.000000</td>\n",
       "      <td>1.000000</td>\n",
       "    </tr>\n",
       "    <tr>\n",
       "      <th>75%</th>\n",
       "      <td>4512.000000</td>\n",
       "      <td>530.000000</td>\n",
       "      <td>1.000000</td>\n",
       "    </tr>\n",
       "    <tr>\n",
       "      <th>max</th>\n",
       "      <td>6032.000000</td>\n",
       "      <td>33427.000000</td>\n",
       "      <td>1.000000</td>\n",
       "    </tr>\n",
       "  </tbody>\n",
       "</table>\n",
       "</div>"
      ],
      "text/plain": [
       "         Unnamed: 0   qtd_visitas       adotado\n",
       "count  12033.000000  12033.000000  12033.000000\n",
       "mean    3007.772625    451.158232      0.501371\n",
       "std     1736.925286    667.387460      0.500019\n",
       "min        0.000000      4.000000      0.000000\n",
       "25%     1504.000000    179.000000      0.000000\n",
       "50%     3008.000000    318.000000      1.000000\n",
       "75%     4512.000000    530.000000      1.000000\n",
       "max     6032.000000  33427.000000      1.000000"
      ]
     },
     "execution_count": 5,
     "metadata": {},
     "output_type": "execute_result"
    }
   ],
   "source": [
    "df.describe()"
   ]
  },
  {
   "cell_type": "code",
   "execution_count": 6,
   "metadata": {},
   "outputs": [
    {
     "data": {
      "text/plain": [
       "Unnamed: 0     355\n",
       "nome           355\n",
       "cidade         355\n",
       "estado         355\n",
       "data           355\n",
       "especie        355\n",
       "sexo           355\n",
       "porte          355\n",
       "qtd_visitas    355\n",
       "adotado        355\n",
       "dtype: int64"
      ]
     },
     "execution_count": 6,
     "metadata": {},
     "output_type": "execute_result"
    }
   ],
   "source": [
    "df[df['qtd_visitas'] > 1500].count()"
   ]
  },
  {
   "cell_type": "markdown",
   "metadata": {},
   "source": [
    "Segundo os dados presentes no método describe, o valor máximo da variável `qtd_visitas` é de 33427. Como a maior parte do nosso dataset está em até 530 visitas, será necessária uma limpeza desses outliers."
   ]
  },
  {
   "cell_type": "markdown",
   "metadata": {},
   "source": [
    "### Tratando outliers\n",
    "\n",
    "Como verificado acima, nosso dataset possuia alguns valores que são realistas levando em consideração a quantidade de visitas porém pode apresentar valores alterados em comparação aos outros que são menores."
   ]
  },
  {
   "cell_type": "code",
   "execution_count": 7,
   "metadata": {},
   "outputs": [],
   "source": [
    "df_clean = df.drop(df[df['qtd_visitas'] > 1500].index)"
   ]
  },
  {
   "cell_type": "code",
   "execution_count": 8,
   "metadata": {},
   "outputs": [
    {
     "data": {
      "text/html": [
       "<div>\n",
       "<style scoped>\n",
       "    .dataframe tbody tr th:only-of-type {\n",
       "        vertical-align: middle;\n",
       "    }\n",
       "\n",
       "    .dataframe tbody tr th {\n",
       "        vertical-align: top;\n",
       "    }\n",
       "\n",
       "    .dataframe thead th {\n",
       "        text-align: right;\n",
       "    }\n",
       "</style>\n",
       "<table border=\"1\" class=\"dataframe\">\n",
       "  <thead>\n",
       "    <tr style=\"text-align: right;\">\n",
       "      <th></th>\n",
       "      <th>Unnamed: 0</th>\n",
       "      <th>qtd_visitas</th>\n",
       "      <th>adotado</th>\n",
       "    </tr>\n",
       "  </thead>\n",
       "  <tbody>\n",
       "    <tr>\n",
       "      <th>count</th>\n",
       "      <td>11678.000000</td>\n",
       "      <td>11678.000000</td>\n",
       "      <td>11678.000000</td>\n",
       "    </tr>\n",
       "    <tr>\n",
       "      <th>mean</th>\n",
       "      <td>2985.505737</td>\n",
       "      <td>383.455129</td>\n",
       "      <td>0.502997</td>\n",
       "    </tr>\n",
       "    <tr>\n",
       "      <th>std</th>\n",
       "      <td>1734.652743</td>\n",
       "      <td>283.809259</td>\n",
       "      <td>0.500012</td>\n",
       "    </tr>\n",
       "    <tr>\n",
       "      <th>min</th>\n",
       "      <td>0.000000</td>\n",
       "      <td>4.000000</td>\n",
       "      <td>0.000000</td>\n",
       "    </tr>\n",
       "    <tr>\n",
       "      <th>25%</th>\n",
       "      <td>1485.000000</td>\n",
       "      <td>175.000000</td>\n",
       "      <td>0.000000</td>\n",
       "    </tr>\n",
       "    <tr>\n",
       "      <th>50%</th>\n",
       "      <td>2973.500000</td>\n",
       "      <td>310.000000</td>\n",
       "      <td>1.000000</td>\n",
       "    </tr>\n",
       "    <tr>\n",
       "      <th>75%</th>\n",
       "      <td>4484.000000</td>\n",
       "      <td>503.000000</td>\n",
       "      <td>1.000000</td>\n",
       "    </tr>\n",
       "    <tr>\n",
       "      <th>max</th>\n",
       "      <td>6032.000000</td>\n",
       "      <td>1499.000000</td>\n",
       "      <td>1.000000</td>\n",
       "    </tr>\n",
       "  </tbody>\n",
       "</table>\n",
       "</div>"
      ],
      "text/plain": [
       "         Unnamed: 0   qtd_visitas       adotado\n",
       "count  11678.000000  11678.000000  11678.000000\n",
       "mean    2985.505737    383.455129      0.502997\n",
       "std     1734.652743    283.809259      0.500012\n",
       "min        0.000000      4.000000      0.000000\n",
       "25%     1485.000000    175.000000      0.000000\n",
       "50%     2973.500000    310.000000      1.000000\n",
       "75%     4484.000000    503.000000      1.000000\n",
       "max     6032.000000   1499.000000      1.000000"
      ]
     },
     "execution_count": 8,
     "metadata": {},
     "output_type": "execute_result"
    }
   ],
   "source": [
    "df_clean.describe()"
   ]
  },
  {
   "cell_type": "markdown",
   "metadata": {},
   "source": [
    "Ao realizar uma nova descrição do nosso dataset, os valores de quantidade de visitas vão até 1499."
   ]
  },
  {
   "cell_type": "code",
   "execution_count": 9,
   "metadata": {},
   "outputs": [],
   "source": [
    "df = df_clean.copy()"
   ]
  },
  {
   "cell_type": "markdown",
   "metadata": {},
   "source": [
    "### Tratamento da variável data\n",
    "Para posteriormente realizar análises com base nos dias, meses ou anos, iremos configurar a coluna de datas para que possamos iterar os dados."
   ]
  },
  {
   "cell_type": "code",
   "execution_count": 10,
   "metadata": {},
   "outputs": [],
   "source": [
    "df['data'] = df['data'].str.replace('.', '')"
   ]
  },
  {
   "cell_type": "code",
   "execution_count": 11,
   "metadata": {},
   "outputs": [],
   "source": [
    "df['data'] = df['data'].str.replace(' ', '')"
   ]
  },
  {
   "cell_type": "code",
   "execution_count": 12,
   "metadata": {},
   "outputs": [],
   "source": [
    "df['data'] = pd.to_datetime(df['data'], infer_datetime_format=True)"
   ]
  },
  {
   "cell_type": "code",
   "execution_count": 13,
   "metadata": {},
   "outputs": [
    {
     "name": "stdout",
     "output_type": "stream",
     "text": [
      "<class 'pandas.core.frame.DataFrame'>\n",
      "Int64Index: 11678 entries, 0 to 12032\n",
      "Data columns (total 10 columns):\n",
      " #   Column       Non-Null Count  Dtype         \n",
      "---  ------       --------------  -----         \n",
      " 0   Unnamed: 0   11678 non-null  int64         \n",
      " 1   nome         11678 non-null  object        \n",
      " 2   cidade       11678 non-null  object        \n",
      " 3   estado       11678 non-null  object        \n",
      " 4   data         11678 non-null  datetime64[ns]\n",
      " 5   especie      11678 non-null  object        \n",
      " 6   sexo         11678 non-null  object        \n",
      " 7   porte        11678 non-null  object        \n",
      " 8   qtd_visitas  11678 non-null  int64         \n",
      " 9   adotado      11678 non-null  int64         \n",
      "dtypes: datetime64[ns](1), int64(3), object(6)\n",
      "memory usage: 1003.6+ KB\n"
     ]
    }
   ],
   "source": [
    "df.info()"
   ]
  },
  {
   "cell_type": "markdown",
   "metadata": {},
   "source": [
    "### Deletando colunas desnecessárias\n",
    "Ao carregar o dataset, foi criado uma coluna chama 'Unnamed'. Como ela não será necessária nesse projeto, iremos retira-la."
   ]
  },
  {
   "cell_type": "code",
   "execution_count": 14,
   "metadata": {},
   "outputs": [],
   "source": [
    "df.drop(['Unnamed: 0'], axis=1, inplace=True)"
   ]
  },
  {
   "cell_type": "code",
   "execution_count": 15,
   "metadata": {},
   "outputs": [
    {
     "data": {
      "text/html": [
       "<div>\n",
       "<style scoped>\n",
       "    .dataframe tbody tr th:only-of-type {\n",
       "        vertical-align: middle;\n",
       "    }\n",
       "\n",
       "    .dataframe tbody tr th {\n",
       "        vertical-align: top;\n",
       "    }\n",
       "\n",
       "    .dataframe thead th {\n",
       "        text-align: right;\n",
       "    }\n",
       "</style>\n",
       "<table border=\"1\" class=\"dataframe\">\n",
       "  <thead>\n",
       "    <tr style=\"text-align: right;\">\n",
       "      <th></th>\n",
       "      <th>nome</th>\n",
       "      <th>cidade</th>\n",
       "      <th>estado</th>\n",
       "      <th>data</th>\n",
       "      <th>especie</th>\n",
       "      <th>sexo</th>\n",
       "      <th>porte</th>\n",
       "      <th>qtd_visitas</th>\n",
       "      <th>adotado</th>\n",
       "    </tr>\n",
       "  </thead>\n",
       "  <tbody>\n",
       "    <tr>\n",
       "      <th>0</th>\n",
       "      <td>Heloisa Salino</td>\n",
       "      <td>Rio de Janeiro</td>\n",
       "      <td>Rio de Janeiro</td>\n",
       "      <td>2020-08-22</td>\n",
       "      <td>Gato</td>\n",
       "      <td>Fêmea</td>\n",
       "      <td>Pequeno</td>\n",
       "      <td>4</td>\n",
       "      <td>0</td>\n",
       "    </tr>\n",
       "    <tr>\n",
       "      <th>1</th>\n",
       "      <td>Snoopy</td>\n",
       "      <td>Rio de Janeiro</td>\n",
       "      <td>Rio de Janeiro</td>\n",
       "      <td>2020-08-22</td>\n",
       "      <td>Cachorro</td>\n",
       "      <td>Macho</td>\n",
       "      <td>Médio</td>\n",
       "      <td>21</td>\n",
       "      <td>0</td>\n",
       "    </tr>\n",
       "    <tr>\n",
       "      <th>2</th>\n",
       "      <td>Mila</td>\n",
       "      <td>Rio de Janeiro</td>\n",
       "      <td>Rio de Janeiro</td>\n",
       "      <td>2020-08-22</td>\n",
       "      <td>Cachorro</td>\n",
       "      <td>Fêmea</td>\n",
       "      <td>Pequeno</td>\n",
       "      <td>23</td>\n",
       "      <td>0</td>\n",
       "    </tr>\n",
       "    <tr>\n",
       "      <th>3</th>\n",
       "      <td>Free</td>\n",
       "      <td>São Paulo</td>\n",
       "      <td>São Paulo</td>\n",
       "      <td>2020-08-22</td>\n",
       "      <td>Cachorro</td>\n",
       "      <td>Macho</td>\n",
       "      <td>Médio</td>\n",
       "      <td>30</td>\n",
       "      <td>0</td>\n",
       "    </tr>\n",
       "    <tr>\n",
       "      <th>4</th>\n",
       "      <td>Valentina</td>\n",
       "      <td>São Paulo</td>\n",
       "      <td>São Paulo</td>\n",
       "      <td>2020-08-22</td>\n",
       "      <td>Gato</td>\n",
       "      <td>Fêmea</td>\n",
       "      <td>Pequeno</td>\n",
       "      <td>54</td>\n",
       "      <td>0</td>\n",
       "    </tr>\n",
       "  </tbody>\n",
       "</table>\n",
       "</div>"
      ],
      "text/plain": [
       "             nome          cidade           estado       data   especie  \\\n",
       "0  Heloisa Salino  Rio de Janeiro   Rio de Janeiro 2020-08-22      Gato   \n",
       "1          Snoopy  Rio de Janeiro   Rio de Janeiro 2020-08-22  Cachorro   \n",
       "2            Mila  Rio de Janeiro   Rio de Janeiro 2020-08-22  Cachorro   \n",
       "3            Free       São Paulo        São Paulo 2020-08-22  Cachorro   \n",
       "4       Valentina       São Paulo        São Paulo 2020-08-22      Gato   \n",
       "\n",
       "     sexo     porte  qtd_visitas  adotado  \n",
       "0   Fêmea   Pequeno            4        0  \n",
       "1   Macho     Médio           21        0  \n",
       "2   Fêmea   Pequeno           23        0  \n",
       "3   Macho     Médio           30        0  \n",
       "4   Fêmea   Pequeno           54        0  "
      ]
     },
     "execution_count": 15,
     "metadata": {},
     "output_type": "execute_result"
    }
   ],
   "source": [
    "df.head()"
   ]
  },
  {
   "cell_type": "markdown",
   "metadata": {},
   "source": [
    "## Análise dos Dados\n",
    " \n",
    "Nesta etapa, iremos analisar os dados e com base nas análises verificar algumas questões como:\n",
    "\n",
    "*- Quais as características da maioria dos animais para adoção?*  \n",
    "*- Como estão divididas as características por espécies?*  \n",
    "*- Qual espécie tem maior probabilidade de ser adotada e qual a mais presente nos dados?*  \n",
    "\n",
    "Anotações:  \n",
    "- Em qual estado mais tem animais disponíveis para adoção  \n",
    "- Como estão distribuidos esses animais nos estados com mais animais para adoção  \n",
    "\n"
   ]
  },
  {
   "cell_type": "markdown",
   "metadata": {},
   "source": [
    "### 1. Quais as características dos animais disponíveis para a adoção?\n",
    "\n",
    "Como até mencionado na pesquisa do [Instituto Pet Brasil]('http://institutopetbrasil.com/imprensa/pais-tem-39-milhoes-de-animais-em-condicao-de-vulnerabilidade/'), a maioria dos animais para adoção são **cachorros**.  \n",
    "\n",
    "A maioria dos animais são de porte **pequeno** e **médio**.  \n",
    "\n",
    "Há uma certa equivalência quando visualizamos o sexo e por um pouco mais, a maioria dos animais são **fêmeas**, o que levanta também a importância da castração nos animais, para que números de animais em situação de vulnerabilidade não cresçam."
   ]
  },
  {
   "cell_type": "code",
   "execution_count": 16,
   "metadata": {},
   "outputs": [
    {
     "data": {
      "image/png": "[encoded data removed]",
      "text/plain": [
       "<Figure size 1440x432 with 3 Axes>"
      ]
     },
     "metadata": {},
     "output_type": "display_data"
    }
   ],
   "source": [
    "fig, ax = plt.subplots(ncols=3, figsize=(20,6))\n",
    "sns.countplot(x=\"especie\", data=df, palette=sns.cubehelix_palette(8), ax=ax[0]).set_title('Distribuição das Espécies');\n",
    "sns.countplot(x=\"porte\", data=df,  palette=sns.cubehelix_palette(8),ax=ax[1]).set_title('Distribuição do Porte');\n",
    "sns.countplot(x=\"sexo\", data=df, palette=sns.cubehelix_palette(8), ax=ax[2]).set_title('Distribuição do Sexo');"
   ]
  },
  {
   "cell_type": "markdown",
   "metadata": {},
   "source": [
    "Como podemos ver no gráfico da distribuição da variável `especie`, os cachorros são quase o dobro dos gatos e esse desbalanceamento pode causar alguma alteração nas nossas análises.  \n",
    "Antes de continuar, iremos igualar a quantidade de dados de gatos e de cachorros."
   ]
  },
  {
   "cell_type": "code",
   "execution_count": 17,
   "metadata": {},
   "outputs": [],
   "source": [
    "# backup dataframe antigo\n",
    "df_antigo = df.copy()\n",
    "\n",
    "# separando os dados para análises separadas\n",
    "gatos = df[df['especie'] == 'Gato']\n",
    "cachorros = df[df['especie'] == 'Cachorro'].sample(gatos.shape[0])\n",
    "\n",
    "# juntando os dados e recriando o dataframe\n",
    "df = pd.concat([gatos,cachorros])"
   ]
  },
  {
   "cell_type": "code",
   "execution_count": 18,
   "metadata": {},
   "outputs": [
    {
     "name": "stdout",
     "output_type": "stream",
     "text": [
      "Valores do dataframe original:\n"
     ]
    },
    {
     "data": {
      "text/plain": [
       "Cachorro    7588\n",
       "Gato        4090\n",
       "Name: especie, dtype: int64"
      ]
     },
     "execution_count": 18,
     "metadata": {},
     "output_type": "execute_result"
    }
   ],
   "source": [
    "print(\"Valores do dataframe original:\")\n",
    "df_antigo['especie'].value_counts()"
   ]
  },
  {
   "cell_type": "code",
   "execution_count": 19,
   "metadata": {},
   "outputs": [
    {
     "name": "stdout",
     "output_type": "stream",
     "text": [
      "Valores do novo dataframe:\n"
     ]
    },
    {
     "data": {
      "text/plain": [
       "Gato        4090\n",
       "Cachorro    4090\n",
       "Name: especie, dtype: int64"
      ]
     },
     "execution_count": 19,
     "metadata": {},
     "output_type": "execute_result"
    }
   ],
   "source": [
    "print(\"Valores do novo dataframe:\")\n",
    "df['especie'].value_counts()"
   ]
  },
  {
   "cell_type": "markdown",
   "metadata": {},
   "source": [
    "### 2. Como estão divididas as características por espécies?"
   ]
  },
  {
   "cell_type": "code",
   "execution_count": 20,
   "metadata": {},
   "outputs": [
    {
     "data": {
      "image/png": "[encoded data removed]",
      "text/plain": [
       "<Figure size 1440x432 with 2 Axes>"
      ]
     },
     "metadata": {},
     "output_type": "display_data"
    }
   ],
   "source": [
    "fig, ax = plt.subplots(ncols=2, figsize=(20,6))\n",
    "sns.countplot(x=\"porte\", hue=\"especie\", data=df, palette=sns.cubehelix_palette(8), ax=ax[0]).set_title('Distribuição de porte por espécie');\n",
    "sns.countplot(x=\"sexo\", hue=\"especie\", data=df, palette=sns.cubehelix_palette(8), ax=ax[1]).set_title('Distribuição de sexo por espécie');"
   ]
  },
  {
   "cell_type": "markdown",
   "metadata": {},
   "source": [
    "### 3. Qual espécie tem maior probabilidade de ser adotada?\n",
    "\n",
    "Os gatos possuem mais casos de adoção do que cachorros. Fatores podem ser analisados nesse caso para poder identificar os motivos para que isso aconteça."
   ]
  },
  {
   "cell_type": "code",
   "execution_count": 21,
   "metadata": {},
   "outputs": [
    {
     "data": {
      "image/png": "[encoded data removed]",
      "text/plain": [
       "<Figure size 1440x720 with 4 Axes>"
      ]
     },
     "metadata": {},
     "output_type": "display_data"
    }
   ],
   "source": [
    "fig, ax = plt.subplots(nrows=2,ncols=2, figsize=(20,10))\n",
    "sns.countplot(x=\"especie\", hue=\"adotado\", data=df, palette=sns.cubehelix_palette(8), ax=ax[0,0]).set_title(\"Relação da adoção x espécie\");\n",
    "sns.countplot(x=\"sexo\", hue=\"adotado\", data=df, palette=sns.cubehelix_palette(8), ax=ax[0,1]).set_title(\"Relação da adoção x sexo\");\n",
    "sns.countplot(x=\"porte\", hue=\"adotado\", data=gatos,  palette=sns.cubehelix_palette(8), ax=ax[1,0]).set_title(\"Relação de adoção de gatos por porte\");\n",
    "sns.countplot(x=\"porte\", hue=\"adotado\", data=cachorros, palette=sns.cubehelix_palette(8), ax=ax[1,1]).set_title(\"Relação de adoção de cachorros por porte\");"
   ]
  },
  {
   "cell_type": "markdown",
   "metadata": {},
   "source": [
    "... construção"
   ]
  }
 ],
 "metadata": {
  "kernelspec": {
   "display_name": "Python 3",
   "language": "python",
   "name": "python3"
  },
  "language_info": {
   "codemirror_mode": {
    "name": "ipython",
    "version": 3
   },
   "file_extension": ".py",
   "mimetype": "text/x-python",
   "name": "python",
   "nbconvert_exporter": "python",
   "pygments_lexer": "ipython3",
   "version": "3.7.1"
  }
 },
 "nbformat": 4,
 "nbformat_minor": 4
}
